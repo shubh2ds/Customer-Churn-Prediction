{
  "nbformat": 4,
  "nbformat_minor": 0,
  "metadata": {
    "colab": {
      "name": "Customer-Churn-Prediction Project-.ipynb",
      "provenance": [],
      "collapsed_sections": [
        "zNsY9Dm45KNp",
        "AJ48Zcz29nae",
        "cMZroTGVIgkQ",
        "6Nb4S4lI93ah"
      ]
    },
    "kernelspec": {
      "name": "python3",
      "display_name": "Python 3"
    },
    "language_info": {
      "name": "python"
    }
  },
  "cells": [
    {
      "cell_type": "code",
      "metadata": {
        "colab": {
          "base_uri": "https://localhost:8080/"
        },
        "id": "wvwPnXy_0FjR",
        "outputId": "74b2112b-6fb4-4995-fa28-1967ecd0a24d"
      },
      "source": [
        "from google.colab import drive\n",
        "drive.mount('/content/drive')"
      ],
      "execution_count": 1,
      "outputs": [
        {
          "output_type": "stream",
          "name": "stdout",
          "text": [
            "Mounted at /content/drive\n"
          ]
        }
      ]
    },
    {
      "cell_type": "markdown",
      "metadata": {
        "id": "pZwyi2osFIVs"
      },
      "source": [
        "##Load Data"
      ]
    },
    {
      "cell_type": "code",
      "metadata": {
        "colab": {
          "base_uri": "https://localhost:8080/",
          "height": 330
        },
        "id": "-yHKdgUvzboe",
        "outputId": "a4a5e0d6-74a9-4c20-a8e3-a9150ce7c91c"
      },
      "source": [
        "path=\"/content/drive/MyDrive/WorkSpace/ML/Predictive Analytics/Customer-Churn-Prediction/data/WA_Fn-UseC_-Telco-Customer-Churn.csv\"\n",
        "import pandas as pd\n",
        "df=pd.read_csv(path)\n",
        "print(len(df))\n",
        "df.head(5)"
      ],
      "execution_count": 230,
      "outputs": [
        {
          "output_type": "stream",
          "name": "stdout",
          "text": [
            "7043\n"
          ]
        },
        {
          "output_type": "execute_result",
          "data": {
            "text/html": [
              "<div>\n",
              "<style scoped>\n",
              "    .dataframe tbody tr th:only-of-type {\n",
              "        vertical-align: middle;\n",
              "    }\n",
              "\n",
              "    .dataframe tbody tr th {\n",
              "        vertical-align: top;\n",
              "    }\n",
              "\n",
              "    .dataframe thead th {\n",
              "        text-align: right;\n",
              "    }\n",
              "</style>\n",
              "<table border=\"1\" class=\"dataframe\">\n",
              "  <thead>\n",
              "    <tr style=\"text-align: right;\">\n",
              "      <th></th>\n",
              "      <th>customerID</th>\n",
              "      <th>gender</th>\n",
              "      <th>SeniorCitizen</th>\n",
              "      <th>Partner</th>\n",
              "      <th>Dependents</th>\n",
              "      <th>tenure</th>\n",
              "      <th>PhoneService</th>\n",
              "      <th>MultipleLines</th>\n",
              "      <th>InternetService</th>\n",
              "      <th>OnlineSecurity</th>\n",
              "      <th>OnlineBackup</th>\n",
              "      <th>DeviceProtection</th>\n",
              "      <th>TechSupport</th>\n",
              "      <th>StreamingTV</th>\n",
              "      <th>StreamingMovies</th>\n",
              "      <th>Contract</th>\n",
              "      <th>PaperlessBilling</th>\n",
              "      <th>PaymentMethod</th>\n",
              "      <th>MonthlyCharges</th>\n",
              "      <th>TotalCharges</th>\n",
              "      <th>Churn</th>\n",
              "    </tr>\n",
              "  </thead>\n",
              "  <tbody>\n",
              "    <tr>\n",
              "      <th>0</th>\n",
              "      <td>7590-VHVEG</td>\n",
              "      <td>Female</td>\n",
              "      <td>0</td>\n",
              "      <td>Yes</td>\n",
              "      <td>No</td>\n",
              "      <td>1</td>\n",
              "      <td>No</td>\n",
              "      <td>No phone service</td>\n",
              "      <td>DSL</td>\n",
              "      <td>No</td>\n",
              "      <td>Yes</td>\n",
              "      <td>No</td>\n",
              "      <td>No</td>\n",
              "      <td>No</td>\n",
              "      <td>No</td>\n",
              "      <td>Month-to-month</td>\n",
              "      <td>Yes</td>\n",
              "      <td>Electronic check</td>\n",
              "      <td>29.85</td>\n",
              "      <td>29.85</td>\n",
              "      <td>No</td>\n",
              "    </tr>\n",
              "    <tr>\n",
              "      <th>1</th>\n",
              "      <td>5575-GNVDE</td>\n",
              "      <td>Male</td>\n",
              "      <td>0</td>\n",
              "      <td>No</td>\n",
              "      <td>No</td>\n",
              "      <td>34</td>\n",
              "      <td>Yes</td>\n",
              "      <td>No</td>\n",
              "      <td>DSL</td>\n",
              "      <td>Yes</td>\n",
              "      <td>No</td>\n",
              "      <td>Yes</td>\n",
              "      <td>No</td>\n",
              "      <td>No</td>\n",
              "      <td>No</td>\n",
              "      <td>One year</td>\n",
              "      <td>No</td>\n",
              "      <td>Mailed check</td>\n",
              "      <td>56.95</td>\n",
              "      <td>1889.5</td>\n",
              "      <td>No</td>\n",
              "    </tr>\n",
              "    <tr>\n",
              "      <th>2</th>\n",
              "      <td>3668-QPYBK</td>\n",
              "      <td>Male</td>\n",
              "      <td>0</td>\n",
              "      <td>No</td>\n",
              "      <td>No</td>\n",
              "      <td>2</td>\n",
              "      <td>Yes</td>\n",
              "      <td>No</td>\n",
              "      <td>DSL</td>\n",
              "      <td>Yes</td>\n",
              "      <td>Yes</td>\n",
              "      <td>No</td>\n",
              "      <td>No</td>\n",
              "      <td>No</td>\n",
              "      <td>No</td>\n",
              "      <td>Month-to-month</td>\n",
              "      <td>Yes</td>\n",
              "      <td>Mailed check</td>\n",
              "      <td>53.85</td>\n",
              "      <td>108.15</td>\n",
              "      <td>Yes</td>\n",
              "    </tr>\n",
              "    <tr>\n",
              "      <th>3</th>\n",
              "      <td>7795-CFOCW</td>\n",
              "      <td>Male</td>\n",
              "      <td>0</td>\n",
              "      <td>No</td>\n",
              "      <td>No</td>\n",
              "      <td>45</td>\n",
              "      <td>No</td>\n",
              "      <td>No phone service</td>\n",
              "      <td>DSL</td>\n",
              "      <td>Yes</td>\n",
              "      <td>No</td>\n",
              "      <td>Yes</td>\n",
              "      <td>Yes</td>\n",
              "      <td>No</td>\n",
              "      <td>No</td>\n",
              "      <td>One year</td>\n",
              "      <td>No</td>\n",
              "      <td>Bank transfer (automatic)</td>\n",
              "      <td>42.30</td>\n",
              "      <td>1840.75</td>\n",
              "      <td>No</td>\n",
              "    </tr>\n",
              "    <tr>\n",
              "      <th>4</th>\n",
              "      <td>9237-HQITU</td>\n",
              "      <td>Female</td>\n",
              "      <td>0</td>\n",
              "      <td>No</td>\n",
              "      <td>No</td>\n",
              "      <td>2</td>\n",
              "      <td>Yes</td>\n",
              "      <td>No</td>\n",
              "      <td>Fiber optic</td>\n",
              "      <td>No</td>\n",
              "      <td>No</td>\n",
              "      <td>No</td>\n",
              "      <td>No</td>\n",
              "      <td>No</td>\n",
              "      <td>No</td>\n",
              "      <td>Month-to-month</td>\n",
              "      <td>Yes</td>\n",
              "      <td>Electronic check</td>\n",
              "      <td>70.70</td>\n",
              "      <td>151.65</td>\n",
              "      <td>Yes</td>\n",
              "    </tr>\n",
              "  </tbody>\n",
              "</table>\n",
              "</div>"
            ],
            "text/plain": [
              "   customerID  gender  SeniorCitizen  ... MonthlyCharges TotalCharges  Churn\n",
              "0  7590-VHVEG  Female              0  ...          29.85        29.85     No\n",
              "1  5575-GNVDE    Male              0  ...          56.95       1889.5     No\n",
              "2  3668-QPYBK    Male              0  ...          53.85       108.15    Yes\n",
              "3  7795-CFOCW    Male              0  ...          42.30      1840.75     No\n",
              "4  9237-HQITU  Female              0  ...          70.70       151.65    Yes\n",
              "\n",
              "[5 rows x 21 columns]"
            ]
          },
          "metadata": {},
          "execution_count": 230
        }
      ]
    },
    {
      "cell_type": "code",
      "metadata": {
        "colab": {
          "base_uri": "https://localhost:8080/"
        },
        "id": "ORsws_wt7Uoo",
        "outputId": "200c829b-0428-44f8-a9af-33e531ade3f5"
      },
      "source": [
        "df['Churn'].unique()"
      ],
      "execution_count": 231,
      "outputs": [
        {
          "output_type": "execute_result",
          "data": {
            "text/plain": [
              "array(['No', 'Yes'], dtype=object)"
            ]
          },
          "metadata": {},
          "execution_count": 231
        }
      ]
    },
    {
      "cell_type": "markdown",
      "metadata": {
        "id": "zNsY9Dm45KNp"
      },
      "source": [
        "##EDA-Part1  Data Analysis "
      ]
    },
    {
      "cell_type": "code",
      "metadata": {
        "id": "-vaS9eCi1DNn"
      },
      "source": [
        "#df['gender'].values.ndim\n",
        "#df.ndim"
      ],
      "execution_count": 232,
      "outputs": []
    },
    {
      "cell_type": "code",
      "metadata": {
        "colab": {
          "base_uri": "https://localhost:8080/",
          "height": 283
        },
        "id": "s-NMM92UN-N1",
        "outputId": "063002e5-4cd6-4ba6-c339-1e4c257c5880"
      },
      "source": [
        "df['Churn'].hist()"
      ],
      "execution_count": 233,
      "outputs": [
        {
          "output_type": "execute_result",
          "data": {
            "text/plain": [
              "<matplotlib.axes._subplots.AxesSubplot at 0x7ff9d4f9c610>"
            ]
          },
          "metadata": {},
          "execution_count": 233
        },
        {
          "output_type": "display_data",
          "data": {
            "image/png": "[encoded data removed]",
            "text/plain": [
              "<Figure size 432x288 with 1 Axes>"
            ]
          },
          "metadata": {
            "needs_background": "light"
          }
        }
      ]
    },
    {
      "cell_type": "code",
      "metadata": {
        "colab": {
          "base_uri": "https://localhost:8080/",
          "height": 285
        },
        "id": "nxya4GVHOTpH",
        "outputId": "dcd88722-cc06-478d-941d-d43e091805b4"
      },
      "source": [
        "df[df['Churn']=='Yes']['Dependents'].hist()"
      ],
      "execution_count": 234,
      "outputs": [
        {
          "output_type": "execute_result",
          "data": {
            "text/plain": [
              "<matplotlib.axes._subplots.AxesSubplot at 0x7ff9d4e95c10>"
            ]
          },
          "metadata": {},
          "execution_count": 234
        },
        {
          "output_type": "display_data",
          "data": {
            "image/png": "[encoded data removed]",
            "text/plain": [
              "<Figure size 432x288 with 1 Axes>"
            ]
          },
          "metadata": {
            "needs_background": "light"
          }
        }
      ]
    },
    {
      "cell_type": "code",
      "metadata": {
        "colab": {
          "base_uri": "https://localhost:8080/",
          "height": 283
        },
        "id": "W95UFwbTNYGo",
        "outputId": "d570bea0-15e1-453a-f11e-ebf5db84f031"
      },
      "source": [
        "df['Dependents'].hist()"
      ],
      "execution_count": 235,
      "outputs": [
        {
          "output_type": "execute_result",
          "data": {
            "text/plain": [
              "<matplotlib.axes._subplots.AxesSubplot at 0x7ff9d5662850>"
            ]
          },
          "metadata": {},
          "execution_count": 235
        },
        {
          "output_type": "display_data",
          "data": {
            "image/png": "[encoded data removed]",
            "text/plain": [
              "<Figure size 432x288 with 1 Axes>"
            ]
          },
          "metadata": {
            "needs_background": "light"
          }
        }
      ]
    },
    {
      "cell_type": "code",
      "metadata": {
        "colab": {
          "base_uri": "https://localhost:8080/",
          "height": 299
        },
        "id": "7_hqVFt412JD",
        "outputId": "f184f91e-63ec-4712-b524-464428cd26bd"
      },
      "source": [
        "df.describe()"
      ],
      "execution_count": 236,
      "outputs": [
        {
          "output_type": "execute_result",
          "data": {
            "text/html": [
              "<div>\n",
              "<style scoped>\n",
              "    .dataframe tbody tr th:only-of-type {\n",
              "        vertical-align: middle;\n",
              "    }\n",
              "\n",
              "    .dataframe tbody tr th {\n",
              "        vertical-align: top;\n",
              "    }\n",
              "\n",
              "    .dataframe thead th {\n",
              "        text-align: right;\n",
              "    }\n",
              "</style>\n",
              "<table border=\"1\" class=\"dataframe\">\n",
              "  <thead>\n",
              "    <tr style=\"text-align: right;\">\n",
              "      <th></th>\n",
              "      <th>SeniorCitizen</th>\n",
              "      <th>tenure</th>\n",
              "      <th>MonthlyCharges</th>\n",
              "    </tr>\n",
              "  </thead>\n",
              "  <tbody>\n",
              "    <tr>\n",
              "      <th>count</th>\n",
              "      <td>7043.000000</td>\n",
              "      <td>7043.000000</td>\n",
              "      <td>7043.000000</td>\n",
              "    </tr>\n",
              "    <tr>\n",
              "      <th>mean</th>\n",
              "      <td>0.162147</td>\n",
              "      <td>32.371149</td>\n",
              "      <td>64.761692</td>\n",
              "    </tr>\n",
              "    <tr>\n",
              "      <th>std</th>\n",
              "      <td>0.368612</td>\n",
              "      <td>24.559481</td>\n",
              "      <td>30.090047</td>\n",
              "    </tr>\n",
              "    <tr>\n",
              "      <th>min</th>\n",
              "      <td>0.000000</td>\n",
              "      <td>0.000000</td>\n",
              "      <td>18.250000</td>\n",
              "    </tr>\n",
              "    <tr>\n",
              "      <th>25%</th>\n",
              "      <td>0.000000</td>\n",
              "      <td>9.000000</td>\n",
              "      <td>35.500000</td>\n",
              "    </tr>\n",
              "    <tr>\n",
              "      <th>50%</th>\n",
              "      <td>0.000000</td>\n",
              "      <td>29.000000</td>\n",
              "      <td>70.350000</td>\n",
              "    </tr>\n",
              "    <tr>\n",
              "      <th>75%</th>\n",
              "      <td>0.000000</td>\n",
              "      <td>55.000000</td>\n",
              "      <td>89.850000</td>\n",
              "    </tr>\n",
              "    <tr>\n",
              "      <th>max</th>\n",
              "      <td>1.000000</td>\n",
              "      <td>72.000000</td>\n",
              "      <td>118.750000</td>\n",
              "    </tr>\n",
              "  </tbody>\n",
              "</table>\n",
              "</div>"
            ],
            "text/plain": [
              "       SeniorCitizen       tenure  MonthlyCharges\n",
              "count    7043.000000  7043.000000     7043.000000\n",
              "mean        0.162147    32.371149       64.761692\n",
              "std         0.368612    24.559481       30.090047\n",
              "min         0.000000     0.000000       18.250000\n",
              "25%         0.000000     9.000000       35.500000\n",
              "50%         0.000000    29.000000       70.350000\n",
              "75%         0.000000    55.000000       89.850000\n",
              "max         1.000000    72.000000      118.750000"
            ]
          },
          "metadata": {},
          "execution_count": 236
        }
      ]
    },
    {
      "cell_type": "code",
      "metadata": {
        "colab": {
          "base_uri": "https://localhost:8080/"
        },
        "id": "Nks7_-uH26FQ",
        "outputId": "6ca66820-0382-4e5e-8fc2-60e2043d0633"
      },
      "source": [
        "import numpy as np\n",
        "#len(df[df['SeniorCitizen'].isna()==True])\n",
        "#len(df[df['tenure']==np.nan])\n",
        "df.isnull().sum()"
      ],
      "execution_count": 237,
      "outputs": [
        {
          "output_type": "execute_result",
          "data": {
            "text/plain": [
              "customerID          0\n",
              "gender              0\n",
              "SeniorCitizen       0\n",
              "Partner             0\n",
              "Dependents          0\n",
              "tenure              0\n",
              "PhoneService        0\n",
              "MultipleLines       0\n",
              "InternetService     0\n",
              "OnlineSecurity      0\n",
              "OnlineBackup        0\n",
              "DeviceProtection    0\n",
              "TechSupport         0\n",
              "StreamingTV         0\n",
              "StreamingMovies     0\n",
              "Contract            0\n",
              "PaperlessBilling    0\n",
              "PaymentMethod       0\n",
              "MonthlyCharges      0\n",
              "TotalCharges        0\n",
              "Churn               0\n",
              "dtype: int64"
            ]
          },
          "metadata": {},
          "execution_count": 237
        }
      ]
    },
    {
      "cell_type": "code",
      "metadata": {
        "colab": {
          "base_uri": "https://localhost:8080/"
        },
        "id": "6YHi6QlH4L81",
        "outputId": "9b8b1150-262f-4815-b177-500cfd58481f"
      },
      "source": [
        "df.isnull().values.any()"
      ],
      "execution_count": 238,
      "outputs": [
        {
          "output_type": "execute_result",
          "data": {
            "text/plain": [
              "False"
            ]
          },
          "metadata": {},
          "execution_count": 238
        }
      ]
    },
    {
      "cell_type": "markdown",
      "metadata": {
        "id": "AJ48Zcz29nae"
      },
      "source": [
        "##Label Encoding"
      ]
    },
    {
      "cell_type": "code",
      "metadata": {
        "colab": {
          "base_uri": "https://localhost:8080/",
          "height": 0
        },
        "id": "NdYiMG-r7G4b",
        "outputId": "a23bd207-c78c-4025-c45e-36a7297b2087"
      },
      "source": [
        "df['Churn_encoded']=0\n",
        "for i in range(0,len(df)):\n",
        "  if df['Churn'][i]==\"No\":\n",
        "    df['Churn_encoded'][i]=0\n",
        "  elif df['Churn'][i]==\"Yes\":\n",
        "    df['Churn_encoded'][i]=1\n",
        "print(df['Churn_encoded'].unique())\n",
        "df.head(5)"
      ],
      "execution_count": 239,
      "outputs": [
        {
          "output_type": "stream",
          "name": "stderr",
          "text": [
            "/usr/local/lib/python3.7/dist-packages/ipykernel_launcher.py:4: SettingWithCopyWarning: \n",
            "A value is trying to be set on a copy of a slice from a DataFrame\n",
            "\n",
            "See the caveats in the documentation: https://pandas.pydata.org/pandas-docs/stable/user_guide/indexing.html#returning-a-view-versus-a-copy\n",
            "  after removing the cwd from sys.path.\n",
            "/usr/local/lib/python3.7/dist-packages/ipykernel_launcher.py:6: SettingWithCopyWarning: \n",
            "A value is trying to be set on a copy of a slice from a DataFrame\n",
            "\n",
            "See the caveats in the documentation: https://pandas.pydata.org/pandas-docs/stable/user_guide/indexing.html#returning-a-view-versus-a-copy\n",
            "  \n"
          ]
        },
        {
          "output_type": "stream",
          "name": "stdout",
          "text": [
            "[0 1]\n"
          ]
        },
        {
          "output_type": "execute_result",
          "data": {
            "text/html": [
              "<div>\n",
              "<style scoped>\n",
              "    .dataframe tbody tr th:only-of-type {\n",
              "        vertical-align: middle;\n",
              "    }\n",
              "\n",
              "    .dataframe tbody tr th {\n",
              "        vertical-align: top;\n",
              "    }\n",
              "\n",
              "    .dataframe thead th {\n",
              "        text-align: right;\n",
              "    }\n",
              "</style>\n",
              "<table border=\"1\" class=\"dataframe\">\n",
              "  <thead>\n",
              "    <tr style=\"text-align: right;\">\n",
              "      <th></th>\n",
              "      <th>customerID</th>\n",
              "      <th>gender</th>\n",
              "      <th>SeniorCitizen</th>\n",
              "      <th>Partner</th>\n",
              "      <th>Dependents</th>\n",
              "      <th>tenure</th>\n",
              "      <th>PhoneService</th>\n",
              "      <th>MultipleLines</th>\n",
              "      <th>InternetService</th>\n",
              "      <th>OnlineSecurity</th>\n",
              "      <th>OnlineBackup</th>\n",
              "      <th>DeviceProtection</th>\n",
              "      <th>TechSupport</th>\n",
              "      <th>StreamingTV</th>\n",
              "      <th>StreamingMovies</th>\n",
              "      <th>Contract</th>\n",
              "      <th>PaperlessBilling</th>\n",
              "      <th>PaymentMethod</th>\n",
              "      <th>MonthlyCharges</th>\n",
              "      <th>TotalCharges</th>\n",
              "      <th>Churn</th>\n",
              "      <th>Churn_encoded</th>\n",
              "    </tr>\n",
              "  </thead>\n",
              "  <tbody>\n",
              "    <tr>\n",
              "      <th>0</th>\n",
              "      <td>7590-VHVEG</td>\n",
              "      <td>Female</td>\n",
              "      <td>0</td>\n",
              "      <td>Yes</td>\n",
              "      <td>No</td>\n",
              "      <td>1</td>\n",
              "      <td>No</td>\n",
              "      <td>No phone service</td>\n",
              "      <td>DSL</td>\n",
              "      <td>No</td>\n",
              "      <td>Yes</td>\n",
              "      <td>No</td>\n",
              "      <td>No</td>\n",
              "      <td>No</td>\n",
              "      <td>No</td>\n",
              "      <td>Month-to-month</td>\n",
              "      <td>Yes</td>\n",
              "      <td>Electronic check</td>\n",
              "      <td>29.85</td>\n",
              "      <td>29.85</td>\n",
              "      <td>No</td>\n",
              "      <td>0</td>\n",
              "    </tr>\n",
              "    <tr>\n",
              "      <th>1</th>\n",
              "      <td>5575-GNVDE</td>\n",
              "      <td>Male</td>\n",
              "      <td>0</td>\n",
              "      <td>No</td>\n",
              "      <td>No</td>\n",
              "      <td>34</td>\n",
              "      <td>Yes</td>\n",
              "      <td>No</td>\n",
              "      <td>DSL</td>\n",
              "      <td>Yes</td>\n",
              "      <td>No</td>\n",
              "      <td>Yes</td>\n",
              "      <td>No</td>\n",
              "      <td>No</td>\n",
              "      <td>No</td>\n",
              "      <td>One year</td>\n",
              "      <td>No</td>\n",
              "      <td>Mailed check</td>\n",
              "      <td>56.95</td>\n",
              "      <td>1889.5</td>\n",
              "      <td>No</td>\n",
              "      <td>0</td>\n",
              "    </tr>\n",
              "    <tr>\n",
              "      <th>2</th>\n",
              "      <td>3668-QPYBK</td>\n",
              "      <td>Male</td>\n",
              "      <td>0</td>\n",
              "      <td>No</td>\n",
              "      <td>No</td>\n",
              "      <td>2</td>\n",
              "      <td>Yes</td>\n",
              "      <td>No</td>\n",
              "      <td>DSL</td>\n",
              "      <td>Yes</td>\n",
              "      <td>Yes</td>\n",
              "      <td>No</td>\n",
              "      <td>No</td>\n",
              "      <td>No</td>\n",
              "      <td>No</td>\n",
              "      <td>Month-to-month</td>\n",
              "      <td>Yes</td>\n",
              "      <td>Mailed check</td>\n",
              "      <td>53.85</td>\n",
              "      <td>108.15</td>\n",
              "      <td>Yes</td>\n",
              "      <td>1</td>\n",
              "    </tr>\n",
              "    <tr>\n",
              "      <th>3</th>\n",
              "      <td>7795-CFOCW</td>\n",
              "      <td>Male</td>\n",
              "      <td>0</td>\n",
              "      <td>No</td>\n",
              "      <td>No</td>\n",
              "      <td>45</td>\n",
              "      <td>No</td>\n",
              "      <td>No phone service</td>\n",
              "      <td>DSL</td>\n",
              "      <td>Yes</td>\n",
              "      <td>No</td>\n",
              "      <td>Yes</td>\n",
              "      <td>Yes</td>\n",
              "      <td>No</td>\n",
              "      <td>No</td>\n",
              "      <td>One year</td>\n",
              "      <td>No</td>\n",
              "      <td>Bank transfer (automatic)</td>\n",
              "      <td>42.30</td>\n",
              "      <td>1840.75</td>\n",
              "      <td>No</td>\n",
              "      <td>0</td>\n",
              "    </tr>\n",
              "    <tr>\n",
              "      <th>4</th>\n",
              "      <td>9237-HQITU</td>\n",
              "      <td>Female</td>\n",
              "      <td>0</td>\n",
              "      <td>No</td>\n",
              "      <td>No</td>\n",
              "      <td>2</td>\n",
              "      <td>Yes</td>\n",
              "      <td>No</td>\n",
              "      <td>Fiber optic</td>\n",
              "      <td>No</td>\n",
              "      <td>No</td>\n",
              "      <td>No</td>\n",
              "      <td>No</td>\n",
              "      <td>No</td>\n",
              "      <td>No</td>\n",
              "      <td>Month-to-month</td>\n",
              "      <td>Yes</td>\n",
              "      <td>Electronic check</td>\n",
              "      <td>70.70</td>\n",
              "      <td>151.65</td>\n",
              "      <td>Yes</td>\n",
              "      <td>1</td>\n",
              "    </tr>\n",
              "  </tbody>\n",
              "</table>\n",
              "</div>"
            ],
            "text/plain": [
              "   customerID  gender  SeniorCitizen  ... TotalCharges Churn  Churn_encoded\n",
              "0  7590-VHVEG  Female              0  ...        29.85    No              0\n",
              "1  5575-GNVDE    Male              0  ...       1889.5    No              0\n",
              "2  3668-QPYBK    Male              0  ...       108.15   Yes              1\n",
              "3  7795-CFOCW    Male              0  ...      1840.75    No              0\n",
              "4  9237-HQITU  Female              0  ...       151.65   Yes              1\n",
              "\n",
              "[5 rows x 22 columns]"
            ]
          },
          "metadata": {},
          "execution_count": 239
        }
      ]
    },
    {
      "cell_type": "code",
      "metadata": {
        "colab": {
          "base_uri": "https://localhost:8080/",
          "height": 0
        },
        "id": "z-EWPYbU8zbv",
        "outputId": "d6278a21-2111-4701-e4e7-938b6ded6418"
      },
      "source": [
        "from sklearn.preprocessing import label_binarize ,LabelEncoder\n",
        "LE=LabelEncoder()\n",
        "df['Churn']=LE.fit_transform(df['Churn'])\n",
        "df.head()"
      ],
      "execution_count": 240,
      "outputs": [
        {
          "output_type": "execute_result",
          "data": {
            "text/html": [
              "<div>\n",
              "<style scoped>\n",
              "    .dataframe tbody tr th:only-of-type {\n",
              "        vertical-align: middle;\n",
              "    }\n",
              "\n",
              "    .dataframe tbody tr th {\n",
              "        vertical-align: top;\n",
              "    }\n",
              "\n",
              "    .dataframe thead th {\n",
              "        text-align: right;\n",
              "    }\n",
              "</style>\n",
              "<table border=\"1\" class=\"dataframe\">\n",
              "  <thead>\n",
              "    <tr style=\"text-align: right;\">\n",
              "      <th></th>\n",
              "      <th>customerID</th>\n",
              "      <th>gender</th>\n",
              "      <th>SeniorCitizen</th>\n",
              "      <th>Partner</th>\n",
              "      <th>Dependents</th>\n",
              "      <th>tenure</th>\n",
              "      <th>PhoneService</th>\n",
              "      <th>MultipleLines</th>\n",
              "      <th>InternetService</th>\n",
              "      <th>OnlineSecurity</th>\n",
              "      <th>OnlineBackup</th>\n",
              "      <th>DeviceProtection</th>\n",
              "      <th>TechSupport</th>\n",
              "      <th>StreamingTV</th>\n",
              "      <th>StreamingMovies</th>\n",
              "      <th>Contract</th>\n",
              "      <th>PaperlessBilling</th>\n",
              "      <th>PaymentMethod</th>\n",
              "      <th>MonthlyCharges</th>\n",
              "      <th>TotalCharges</th>\n",
              "      <th>Churn</th>\n",
              "      <th>Churn_encoded</th>\n",
              "    </tr>\n",
              "  </thead>\n",
              "  <tbody>\n",
              "    <tr>\n",
              "      <th>0</th>\n",
              "      <td>7590-VHVEG</td>\n",
              "      <td>Female</td>\n",
              "      <td>0</td>\n",
              "      <td>Yes</td>\n",
              "      <td>No</td>\n",
              "      <td>1</td>\n",
              "      <td>No</td>\n",
              "      <td>No phone service</td>\n",
              "      <td>DSL</td>\n",
              "      <td>No</td>\n",
              "      <td>Yes</td>\n",
              "      <td>No</td>\n",
              "      <td>No</td>\n",
              "      <td>No</td>\n",
              "      <td>No</td>\n",
              "      <td>Month-to-month</td>\n",
              "      <td>Yes</td>\n",
              "      <td>Electronic check</td>\n",
              "      <td>29.85</td>\n",
              "      <td>29.85</td>\n",
              "      <td>0</td>\n",
              "      <td>0</td>\n",
              "    </tr>\n",
              "    <tr>\n",
              "      <th>1</th>\n",
              "      <td>5575-GNVDE</td>\n",
              "      <td>Male</td>\n",
              "      <td>0</td>\n",
              "      <td>No</td>\n",
              "      <td>No</td>\n",
              "      <td>34</td>\n",
              "      <td>Yes</td>\n",
              "      <td>No</td>\n",
              "      <td>DSL</td>\n",
              "      <td>Yes</td>\n",
              "      <td>No</td>\n",
              "      <td>Yes</td>\n",
              "      <td>No</td>\n",
              "      <td>No</td>\n",
              "      <td>No</td>\n",
              "      <td>One year</td>\n",
              "      <td>No</td>\n",
              "      <td>Mailed check</td>\n",
              "      <td>56.95</td>\n",
              "      <td>1889.5</td>\n",
              "      <td>0</td>\n",
              "      <td>0</td>\n",
              "    </tr>\n",
              "    <tr>\n",
              "      <th>2</th>\n",
              "      <td>3668-QPYBK</td>\n",
              "      <td>Male</td>\n",
              "      <td>0</td>\n",
              "      <td>No</td>\n",
              "      <td>No</td>\n",
              "      <td>2</td>\n",
              "      <td>Yes</td>\n",
              "      <td>No</td>\n",
              "      <td>DSL</td>\n",
              "      <td>Yes</td>\n",
              "      <td>Yes</td>\n",
              "      <td>No</td>\n",
              "      <td>No</td>\n",
              "      <td>No</td>\n",
              "      <td>No</td>\n",
              "      <td>Month-to-month</td>\n",
              "      <td>Yes</td>\n",
              "      <td>Mailed check</td>\n",
              "      <td>53.85</td>\n",
              "      <td>108.15</td>\n",
              "      <td>1</td>\n",
              "      <td>1</td>\n",
              "    </tr>\n",
              "    <tr>\n",
              "      <th>3</th>\n",
              "      <td>7795-CFOCW</td>\n",
              "      <td>Male</td>\n",
              "      <td>0</td>\n",
              "      <td>No</td>\n",
              "      <td>No</td>\n",
              "      <td>45</td>\n",
              "      <td>No</td>\n",
              "      <td>No phone service</td>\n",
              "      <td>DSL</td>\n",
              "      <td>Yes</td>\n",
              "      <td>No</td>\n",
              "      <td>Yes</td>\n",
              "      <td>Yes</td>\n",
              "      <td>No</td>\n",
              "      <td>No</td>\n",
              "      <td>One year</td>\n",
              "      <td>No</td>\n",
              "      <td>Bank transfer (automatic)</td>\n",
              "      <td>42.30</td>\n",
              "      <td>1840.75</td>\n",
              "      <td>0</td>\n",
              "      <td>0</td>\n",
              "    </tr>\n",
              "    <tr>\n",
              "      <th>4</th>\n",
              "      <td>9237-HQITU</td>\n",
              "      <td>Female</td>\n",
              "      <td>0</td>\n",
              "      <td>No</td>\n",
              "      <td>No</td>\n",
              "      <td>2</td>\n",
              "      <td>Yes</td>\n",
              "      <td>No</td>\n",
              "      <td>Fiber optic</td>\n",
              "      <td>No</td>\n",
              "      <td>No</td>\n",
              "      <td>No</td>\n",
              "      <td>No</td>\n",
              "      <td>No</td>\n",
              "      <td>No</td>\n",
              "      <td>Month-to-month</td>\n",
              "      <td>Yes</td>\n",
              "      <td>Electronic check</td>\n",
              "      <td>70.70</td>\n",
              "      <td>151.65</td>\n",
              "      <td>1</td>\n",
              "      <td>1</td>\n",
              "    </tr>\n",
              "  </tbody>\n",
              "</table>\n",
              "</div>"
            ],
            "text/plain": [
              "   customerID  gender  SeniorCitizen  ... TotalCharges Churn  Churn_encoded\n",
              "0  7590-VHVEG  Female              0  ...        29.85     0              0\n",
              "1  5575-GNVDE    Male              0  ...       1889.5     0              0\n",
              "2  3668-QPYBK    Male              0  ...       108.15     1              1\n",
              "3  7795-CFOCW    Male              0  ...      1840.75     0              0\n",
              "4  9237-HQITU  Female              0  ...       151.65     1              1\n",
              "\n",
              "[5 rows x 22 columns]"
            ]
          },
          "metadata": {},
          "execution_count": 240
        }
      ]
    },
    {
      "cell_type": "markdown",
      "metadata": {
        "id": "txdHqEV4QQv2"
      },
      "source": [
        "##One hot encoding"
      ]
    },
    {
      "cell_type": "code",
      "metadata": {
        "colab": {
          "base_uri": "https://localhost:8080/"
        },
        "id": "KHGZqTcYQwYL",
        "outputId": "74144a1d-a5bb-4c6b-87f3-3134e7d1beb5"
      },
      "source": [
        "df['InternetService'].unique()"
      ],
      "execution_count": 241,
      "outputs": [
        {
          "output_type": "execute_result",
          "data": {
            "text/plain": [
              "array(['DSL', 'Fiber optic', 'No'], dtype=object)"
            ]
          },
          "metadata": {},
          "execution_count": 241
        }
      ]
    },
    {
      "cell_type": "code",
      "metadata": {
        "colab": {
          "base_uri": "https://localhost:8080/"
        },
        "id": "2mvloMXPQ-8v",
        "outputId": "1121b99f-83ee-4b8a-90f1-2a6ef4b3ece9"
      },
      "source": [
        "df['Contract'].unique()"
      ],
      "execution_count": 242,
      "outputs": [
        {
          "output_type": "execute_result",
          "data": {
            "text/plain": [
              "array(['Month-to-month', 'One year', 'Two year'], dtype=object)"
            ]
          },
          "metadata": {},
          "execution_count": 242
        }
      ]
    },
    {
      "cell_type": "code",
      "metadata": {
        "colab": {
          "base_uri": "https://localhost:8080/",
          "height": 346
        },
        "id": "3rVRQ58tQTgg",
        "outputId": "c9417c38-e9e1-421b-f8e2-6ae51dacc89e"
      },
      "source": [
        "df = pd.get_dummies(df,columns=['InternetService','Contract','PaymentMethod'])\n",
        "df.head()"
      ],
      "execution_count": 243,
      "outputs": [
        {
          "output_type": "execute_result",
          "data": {
            "text/html": [
              "<div>\n",
              "<style scoped>\n",
              "    .dataframe tbody tr th:only-of-type {\n",
              "        vertical-align: middle;\n",
              "    }\n",
              "\n",
              "    .dataframe tbody tr th {\n",
              "        vertical-align: top;\n",
              "    }\n",
              "\n",
              "    .dataframe thead th {\n",
              "        text-align: right;\n",
              "    }\n",
              "</style>\n",
              "<table border=\"1\" class=\"dataframe\">\n",
              "  <thead>\n",
              "    <tr style=\"text-align: right;\">\n",
              "      <th></th>\n",
              "      <th>customerID</th>\n",
              "      <th>gender</th>\n",
              "      <th>SeniorCitizen</th>\n",
              "      <th>Partner</th>\n",
              "      <th>Dependents</th>\n",
              "      <th>tenure</th>\n",
              "      <th>PhoneService</th>\n",
              "      <th>MultipleLines</th>\n",
              "      <th>OnlineSecurity</th>\n",
              "      <th>OnlineBackup</th>\n",
              "      <th>DeviceProtection</th>\n",
              "      <th>TechSupport</th>\n",
              "      <th>StreamingTV</th>\n",
              "      <th>StreamingMovies</th>\n",
              "      <th>PaperlessBilling</th>\n",
              "      <th>MonthlyCharges</th>\n",
              "      <th>TotalCharges</th>\n",
              "      <th>Churn</th>\n",
              "      <th>Churn_encoded</th>\n",
              "      <th>InternetService_DSL</th>\n",
              "      <th>InternetService_Fiber optic</th>\n",
              "      <th>InternetService_No</th>\n",
              "      <th>Contract_Month-to-month</th>\n",
              "      <th>Contract_One year</th>\n",
              "      <th>Contract_Two year</th>\n",
              "      <th>PaymentMethod_Bank transfer (automatic)</th>\n",
              "      <th>PaymentMethod_Credit card (automatic)</th>\n",
              "      <th>PaymentMethod_Electronic check</th>\n",
              "      <th>PaymentMethod_Mailed check</th>\n",
              "    </tr>\n",
              "  </thead>\n",
              "  <tbody>\n",
              "    <tr>\n",
              "      <th>0</th>\n",
              "      <td>7590-VHVEG</td>\n",
              "      <td>Female</td>\n",
              "      <td>0</td>\n",
              "      <td>Yes</td>\n",
              "      <td>No</td>\n",
              "      <td>1</td>\n",
              "      <td>No</td>\n",
              "      <td>No phone service</td>\n",
              "      <td>No</td>\n",
              "      <td>Yes</td>\n",
              "      <td>No</td>\n",
              "      <td>No</td>\n",
              "      <td>No</td>\n",
              "      <td>No</td>\n",
              "      <td>Yes</td>\n",
              "      <td>29.85</td>\n",
              "      <td>29.85</td>\n",
              "      <td>0</td>\n",
              "      <td>0</td>\n",
              "      <td>1</td>\n",
              "      <td>0</td>\n",
              "      <td>0</td>\n",
              "      <td>1</td>\n",
              "      <td>0</td>\n",
              "      <td>0</td>\n",
              "      <td>0</td>\n",
              "      <td>0</td>\n",
              "      <td>1</td>\n",
              "      <td>0</td>\n",
              "    </tr>\n",
              "    <tr>\n",
              "      <th>1</th>\n",
              "      <td>5575-GNVDE</td>\n",
              "      <td>Male</td>\n",
              "      <td>0</td>\n",
              "      <td>No</td>\n",
              "      <td>No</td>\n",
              "      <td>34</td>\n",
              "      <td>Yes</td>\n",
              "      <td>No</td>\n",
              "      <td>Yes</td>\n",
              "      <td>No</td>\n",
              "      <td>Yes</td>\n",
              "      <td>No</td>\n",
              "      <td>No</td>\n",
              "      <td>No</td>\n",
              "      <td>No</td>\n",
              "      <td>56.95</td>\n",
              "      <td>1889.5</td>\n",
              "      <td>0</td>\n",
              "      <td>0</td>\n",
              "      <td>1</td>\n",
              "      <td>0</td>\n",
              "      <td>0</td>\n",
              "      <td>0</td>\n",
              "      <td>1</td>\n",
              "      <td>0</td>\n",
              "      <td>0</td>\n",
              "      <td>0</td>\n",
              "      <td>0</td>\n",
              "      <td>1</td>\n",
              "    </tr>\n",
              "    <tr>\n",
              "      <th>2</th>\n",
              "      <td>3668-QPYBK</td>\n",
              "      <td>Male</td>\n",
              "      <td>0</td>\n",
              "      <td>No</td>\n",
              "      <td>No</td>\n",
              "      <td>2</td>\n",
              "      <td>Yes</td>\n",
              "      <td>No</td>\n",
              "      <td>Yes</td>\n",
              "      <td>Yes</td>\n",
              "      <td>No</td>\n",
              "      <td>No</td>\n",
              "      <td>No</td>\n",
              "      <td>No</td>\n",
              "      <td>Yes</td>\n",
              "      <td>53.85</td>\n",
              "      <td>108.15</td>\n",
              "      <td>1</td>\n",
              "      <td>1</td>\n",
              "      <td>1</td>\n",
              "      <td>0</td>\n",
              "      <td>0</td>\n",
              "      <td>1</td>\n",
              "      <td>0</td>\n",
              "      <td>0</td>\n",
              "      <td>0</td>\n",
              "      <td>0</td>\n",
              "      <td>0</td>\n",
              "      <td>1</td>\n",
              "    </tr>\n",
              "    <tr>\n",
              "      <th>3</th>\n",
              "      <td>7795-CFOCW</td>\n",
              "      <td>Male</td>\n",
              "      <td>0</td>\n",
              "      <td>No</td>\n",
              "      <td>No</td>\n",
              "      <td>45</td>\n",
              "      <td>No</td>\n",
              "      <td>No phone service</td>\n",
              "      <td>Yes</td>\n",
              "      <td>No</td>\n",
              "      <td>Yes</td>\n",
              "      <td>Yes</td>\n",
              "      <td>No</td>\n",
              "      <td>No</td>\n",
              "      <td>No</td>\n",
              "      <td>42.30</td>\n",
              "      <td>1840.75</td>\n",
              "      <td>0</td>\n",
              "      <td>0</td>\n",
              "      <td>1</td>\n",
              "      <td>0</td>\n",
              "      <td>0</td>\n",
              "      <td>0</td>\n",
              "      <td>1</td>\n",
              "      <td>0</td>\n",
              "      <td>1</td>\n",
              "      <td>0</td>\n",
              "      <td>0</td>\n",
              "      <td>0</td>\n",
              "    </tr>\n",
              "    <tr>\n",
              "      <th>4</th>\n",
              "      <td>9237-HQITU</td>\n",
              "      <td>Female</td>\n",
              "      <td>0</td>\n",
              "      <td>No</td>\n",
              "      <td>No</td>\n",
              "      <td>2</td>\n",
              "      <td>Yes</td>\n",
              "      <td>No</td>\n",
              "      <td>No</td>\n",
              "      <td>No</td>\n",
              "      <td>No</td>\n",
              "      <td>No</td>\n",
              "      <td>No</td>\n",
              "      <td>No</td>\n",
              "      <td>Yes</td>\n",
              "      <td>70.70</td>\n",
              "      <td>151.65</td>\n",
              "      <td>1</td>\n",
              "      <td>1</td>\n",
              "      <td>0</td>\n",
              "      <td>1</td>\n",
              "      <td>0</td>\n",
              "      <td>1</td>\n",
              "      <td>0</td>\n",
              "      <td>0</td>\n",
              "      <td>0</td>\n",
              "      <td>0</td>\n",
              "      <td>1</td>\n",
              "      <td>0</td>\n",
              "    </tr>\n",
              "  </tbody>\n",
              "</table>\n",
              "</div>"
            ],
            "text/plain": [
              "   customerID  ... PaymentMethod_Mailed check\n",
              "0  7590-VHVEG  ...                          0\n",
              "1  5575-GNVDE  ...                          1\n",
              "2  3668-QPYBK  ...                          1\n",
              "3  7795-CFOCW  ...                          0\n",
              "4  9237-HQITU  ...                          0\n",
              "\n",
              "[5 rows x 29 columns]"
            ]
          },
          "metadata": {},
          "execution_count": 243
        }
      ]
    },
    {
      "cell_type": "code",
      "metadata": {
        "id": "tzlwbBkJRbwI"
      },
      "source": [
        "df.isnull().sum()"
      ],
      "execution_count": null,
      "outputs": []
    },
    {
      "cell_type": "markdown",
      "metadata": {
        "id": "jlAyT3d8Fs1y"
      },
      "source": [
        "##Convert to integer"
      ]
    },
    {
      "cell_type": "code",
      "metadata": {
        "colab": {
          "base_uri": "https://localhost:8080/"
        },
        "id": "FOuGnIpcCuvy",
        "outputId": "1df7ddc7-fbe9-44e4-9ef8-dc6a525e64af"
      },
      "source": [
        "#df[['SeniorCitizen','tenure','MonthlyCharges','TotalCharges']].astype(float)\n",
        "print(type(df['TotalCharges'][0]))\n",
        "#df['TotalCharges']=df['TotalCharges'].map(float)\n",
        "df['TotalCharges'] = pd.to_numeric(df.TotalCharges, errors='coerce')\n",
        "print(type(df['TotalCharges'][0]))"
      ],
      "execution_count": 245,
      "outputs": [
        {
          "output_type": "stream",
          "name": "stdout",
          "text": [
            "<class 'str'>\n",
            "<class 'numpy.float64'>\n"
          ]
        }
      ]
    },
    {
      "cell_type": "markdown",
      "metadata": {
        "id": "cMZroTGVIgkQ"
      },
      "source": [
        "##Handle null"
      ]
    },
    {
      "cell_type": "code",
      "metadata": {
        "id": "2VJRnZ99Iuri"
      },
      "source": [
        "from sklearn.impute import SimpleImputer\n",
        "SI=SimpleImputer(missing_values=np.nan, strategy='mean', \n",
        "                 fill_value=None, verbose=0, copy=True, add_indicator=False)\n",
        "#Mean,Median,Mode\n",
        "#1,1,2,3,3,3,3,3,2,2, "
      ],
      "execution_count": 246,
      "outputs": []
    },
    {
      "cell_type": "code",
      "metadata": {
        "colab": {
          "base_uri": "https://localhost:8080/"
        },
        "id": "SgH9G-ZpIobF",
        "outputId": "7622fbdc-b893-4399-f97b-da158c21d26c"
      },
      "source": [
        "df['TotalCharges']=SI.fit_transform(df['TotalCharges'].values.reshape(-1,1))\n",
        "df['TotalCharges'].isnull().sum()"
      ],
      "execution_count": 247,
      "outputs": [
        {
          "output_type": "execute_result",
          "data": {
            "text/plain": [
              "0"
            ]
          },
          "metadata": {},
          "execution_count": 247
        }
      ]
    },
    {
      "cell_type": "code",
      "metadata": {
        "colab": {
          "base_uri": "https://localhost:8080/"
        },
        "id": "advmLJHdJgL1",
        "outputId": "af816ca8-9d4b-48ca-c0f9-5ffd08f6fbf2"
      },
      "source": [
        "df['TotalCharges']"
      ],
      "execution_count": 248,
      "outputs": [
        {
          "output_type": "execute_result",
          "data": {
            "text/plain": [
              "0         29.85\n",
              "1       1889.50\n",
              "2        108.15\n",
              "3       1840.75\n",
              "4        151.65\n",
              "         ...   \n",
              "7038    1990.50\n",
              "7039    7362.90\n",
              "7040     346.45\n",
              "7041     306.60\n",
              "7042    6844.50\n",
              "Name: TotalCharges, Length: 7043, dtype: float64"
            ]
          },
          "metadata": {},
          "execution_count": 248
        }
      ]
    },
    {
      "cell_type": "markdown",
      "metadata": {
        "id": "o9M5i5GO5PoJ"
      },
      "source": [
        "##Part2-Get Dependent and Independent Variable"
      ]
    },
    {
      "cell_type": "code",
      "metadata": {
        "colab": {
          "base_uri": "https://localhost:8080/"
        },
        "id": "7ezl0JLuRoyK",
        "outputId": "9d10441b-ce0b-4356-9d08-3621f931d260"
      },
      "source": [
        "df.columns"
      ],
      "execution_count": 249,
      "outputs": [
        {
          "output_type": "execute_result",
          "data": {
            "text/plain": [
              "Index(['customerID', 'gender', 'SeniorCitizen', 'Partner', 'Dependents',\n",
              "       'tenure', 'PhoneService', 'MultipleLines', 'OnlineSecurity',\n",
              "       'OnlineBackup', 'DeviceProtection', 'TechSupport', 'StreamingTV',\n",
              "       'StreamingMovies', 'PaperlessBilling', 'MonthlyCharges', 'TotalCharges',\n",
              "       'Churn', 'Churn_encoded', 'InternetService_DSL',\n",
              "       'InternetService_Fiber optic', 'InternetService_No',\n",
              "       'Contract_Month-to-month', 'Contract_One year', 'Contract_Two year',\n",
              "       'PaymentMethod_Bank transfer (automatic)',\n",
              "       'PaymentMethod_Credit card (automatic)',\n",
              "       'PaymentMethod_Electronic check', 'PaymentMethod_Mailed check'],\n",
              "      dtype='object')"
            ]
          },
          "metadata": {},
          "execution_count": 249
        }
      ]
    },
    {
      "cell_type": "code",
      "metadata": {
        "colab": {
          "base_uri": "https://localhost:8080/"
        },
        "id": "oPyPfouU5IrN",
        "outputId": "519617d9-7f84-40b7-950b-f34a68ee315a"
      },
      "source": [
        "X=df[['SeniorCitizen','tenure','MonthlyCharges','TotalCharges','InternetService_DSL',\n",
        "       'InternetService_Fiber optic', 'InternetService_No',\n",
        "       'Contract_Month-to-month', 'Contract_One year', 'Contract_Two year',\n",
        "       'PaymentMethod_Bank transfer (automatic)',\n",
        "       'PaymentMethod_Credit card (automatic)',\n",
        "       'PaymentMethod_Electronic check', 'PaymentMethod_Mailed check']] #IV\n",
        "Y=df['Churn'] #DV\n",
        "print(X.shape,Y.shape)"
      ],
      "execution_count": 250,
      "outputs": [
        {
          "output_type": "stream",
          "name": "stdout",
          "text": [
            "(7043, 14) (7043,)\n"
          ]
        }
      ]
    },
    {
      "cell_type": "code",
      "metadata": {
        "colab": {
          "base_uri": "https://localhost:8080/",
          "height": 166
        },
        "id": "E0AfvTuc57Hn",
        "outputId": "2d917737-929a-4183-e415-118accbf9b3e"
      },
      "source": [
        "X.head(2)"
      ],
      "execution_count": 251,
      "outputs": [
        {
          "output_type": "execute_result",
          "data": {
            "text/html": [
              "<div>\n",
              "<style scoped>\n",
              "    .dataframe tbody tr th:only-of-type {\n",
              "        vertical-align: middle;\n",
              "    }\n",
              "\n",
              "    .dataframe tbody tr th {\n",
              "        vertical-align: top;\n",
              "    }\n",
              "\n",
              "    .dataframe thead th {\n",
              "        text-align: right;\n",
              "    }\n",
              "</style>\n",
              "<table border=\"1\" class=\"dataframe\">\n",
              "  <thead>\n",
              "    <tr style=\"text-align: right;\">\n",
              "      <th></th>\n",
              "      <th>SeniorCitizen</th>\n",
              "      <th>tenure</th>\n",
              "      <th>MonthlyCharges</th>\n",
              "      <th>TotalCharges</th>\n",
              "      <th>InternetService_DSL</th>\n",
              "      <th>InternetService_Fiber optic</th>\n",
              "      <th>InternetService_No</th>\n",
              "      <th>Contract_Month-to-month</th>\n",
              "      <th>Contract_One year</th>\n",
              "      <th>Contract_Two year</th>\n",
              "      <th>PaymentMethod_Bank transfer (automatic)</th>\n",
              "      <th>PaymentMethod_Credit card (automatic)</th>\n",
              "      <th>PaymentMethod_Electronic check</th>\n",
              "      <th>PaymentMethod_Mailed check</th>\n",
              "    </tr>\n",
              "  </thead>\n",
              "  <tbody>\n",
              "    <tr>\n",
              "      <th>0</th>\n",
              "      <td>0</td>\n",
              "      <td>1</td>\n",
              "      <td>29.85</td>\n",
              "      <td>29.85</td>\n",
              "      <td>1</td>\n",
              "      <td>0</td>\n",
              "      <td>0</td>\n",
              "      <td>1</td>\n",
              "      <td>0</td>\n",
              "      <td>0</td>\n",
              "      <td>0</td>\n",
              "      <td>0</td>\n",
              "      <td>1</td>\n",
              "      <td>0</td>\n",
              "    </tr>\n",
              "    <tr>\n",
              "      <th>1</th>\n",
              "      <td>0</td>\n",
              "      <td>34</td>\n",
              "      <td>56.95</td>\n",
              "      <td>1889.50</td>\n",
              "      <td>1</td>\n",
              "      <td>0</td>\n",
              "      <td>0</td>\n",
              "      <td>0</td>\n",
              "      <td>1</td>\n",
              "      <td>0</td>\n",
              "      <td>0</td>\n",
              "      <td>0</td>\n",
              "      <td>0</td>\n",
              "      <td>1</td>\n",
              "    </tr>\n",
              "  </tbody>\n",
              "</table>\n",
              "</div>"
            ],
            "text/plain": [
              "   SeniorCitizen  ...  PaymentMethod_Mailed check\n",
              "0              0  ...                           0\n",
              "1              0  ...                           1\n",
              "\n",
              "[2 rows x 14 columns]"
            ]
          },
          "metadata": {},
          "execution_count": 251
        }
      ]
    },
    {
      "cell_type": "code",
      "metadata": {
        "colab": {
          "base_uri": "https://localhost:8080/"
        },
        "id": "V2HxxhiU5-05",
        "outputId": "1493c0d5-e6f0-4971-97a3-029b099b002d"
      },
      "source": [
        "Y.head(2)"
      ],
      "execution_count": 252,
      "outputs": [
        {
          "output_type": "execute_result",
          "data": {
            "text/plain": [
              "0    0\n",
              "1    0\n",
              "Name: Churn, dtype: int64"
            ]
          },
          "metadata": {},
          "execution_count": 252
        }
      ]
    },
    {
      "cell_type": "markdown",
      "metadata": {
        "id": "HeUnyH1VSUZO"
      },
      "source": [
        "##Train test split"
      ]
    },
    {
      "cell_type": "code",
      "metadata": {
        "colab": {
          "base_uri": "https://localhost:8080/"
        },
        "id": "ZBnB5IiSBZVn",
        "outputId": "449add75-8343-4a73-f45e-f1e78a18d0e1"
      },
      "source": [
        "from sklearn.model_selection import train_test_split\n",
        "x_tr,x_ts,y_tr,y_ts=train_test_split(X,Y)\n",
        "print(x_tr.shape,x_ts.shape,y_tr.shape,y_ts.shape)"
      ],
      "execution_count": 253,
      "outputs": [
        {
          "output_type": "stream",
          "name": "stdout",
          "text": [
            "(5282, 14) (1761, 14) (5282,) (1761,)\n"
          ]
        }
      ]
    },
    {
      "cell_type": "markdown",
      "metadata": {
        "id": "6Nb4S4lI93ah"
      },
      "source": [
        "##Apply ML"
      ]
    },
    {
      "cell_type": "code",
      "metadata": {
        "id": "XNBMp8S76JV2"
      },
      "source": [
        "from sklearn.tree import DecisionTreeClassifier\n",
        "from sklearn.ensemble import RandomForestClassifier\n",
        "#https://scikit-learn.org/stable/modules/generated/sklearn.tree.DecisionTreeClassifier.html\n",
        "#Parameter tuning-Model optimization\n",
        "model2=DecisionTreeClassifier(criterion='gini', splitter='best', max_depth=None, \n",
        "                              min_samples_split=2, min_samples_leaf=1,\n",
        "                              min_weight_fraction_leaf=0.0, max_features=None, \n",
        "                              random_state=None, max_leaf_nodes=None,\n",
        "                              min_impurity_decrease=0.0, min_impurity_split=None, \n",
        "                              class_weight=None, presort='deprecated', ccp_alpha=0.0)\n",
        "model1=RandomForestClassifier(n_estimators=50, criterion='entropy', max_depth=None,\n",
        "                              min_samples_split=2, min_samples_leaf=1, \n",
        "                              min_weight_fraction_leaf=0.0, max_features='auto', \n",
        "                              max_leaf_nodes=None, min_impurity_decrease=0.0, \n",
        "                              min_impurity_split=None, bootstrap=True, oob_score=False, \n",
        "                              n_jobs=None, random_state=None, verbose=1,\n",
        "                              warm_start=False, class_weight=None, ccp_alpha=0.0, \n",
        "                              max_samples=None)"
      ],
      "execution_count": 254,
      "outputs": []
    },
    {
      "cell_type": "code",
      "metadata": {
        "colab": {
          "base_uri": "https://localhost:8080/"
        },
        "id": "uSsvi8bO_OxH",
        "outputId": "59a7eb36-ac9a-4889-952d-66a43dffe25a"
      },
      "source": [
        "model1.fit(x_tr,y_tr)"
      ],
      "execution_count": 255,
      "outputs": [
        {
          "output_type": "stream",
          "name": "stderr",
          "text": [
            "[Parallel(n_jobs=1)]: Using backend SequentialBackend with 1 concurrent workers.\n",
            "[Parallel(n_jobs=1)]: Done  50 out of  50 | elapsed:    0.4s finished\n"
          ]
        },
        {
          "output_type": "execute_result",
          "data": {
            "text/plain": [
              "RandomForestClassifier(bootstrap=True, ccp_alpha=0.0, class_weight=None,\n",
              "                       criterion='entropy', max_depth=None, max_features='auto',\n",
              "                       max_leaf_nodes=None, max_samples=None,\n",
              "                       min_impurity_decrease=0.0, min_impurity_split=None,\n",
              "                       min_samples_leaf=1, min_samples_split=2,\n",
              "                       min_weight_fraction_leaf=0.0, n_estimators=50,\n",
              "                       n_jobs=None, oob_score=False, random_state=None,\n",
              "                       verbose=1, warm_start=False)"
            ]
          },
          "metadata": {},
          "execution_count": 255
        }
      ]
    },
    {
      "cell_type": "code",
      "metadata": {
        "colab": {
          "base_uri": "https://localhost:8080/"
        },
        "id": "Gx9KwzuIKLBR",
        "outputId": "97afb225-eba6-44ab-b010-a0b93b09c66b"
      },
      "source": [
        "y_pred=model1.predict(x_ts)\n",
        "print(len(y_pred))\n",
        "y_pred"
      ],
      "execution_count": 256,
      "outputs": [
        {
          "output_type": "stream",
          "name": "stdout",
          "text": [
            "1761\n"
          ]
        },
        {
          "output_type": "stream",
          "name": "stderr",
          "text": [
            "[Parallel(n_jobs=1)]: Using backend SequentialBackend with 1 concurrent workers.\n",
            "[Parallel(n_jobs=1)]: Done  50 out of  50 | elapsed:    0.0s finished\n"
          ]
        },
        {
          "output_type": "execute_result",
          "data": {
            "text/plain": [
              "array([0, 0, 0, ..., 0, 0, 0])"
            ]
          },
          "metadata": {},
          "execution_count": 256
        }
      ]
    },
    {
      "cell_type": "code",
      "metadata": {
        "colab": {
          "base_uri": "https://localhost:8080/"
        },
        "id": "XTlqBjJ3KUFy",
        "outputId": "1c2d01c9-0523-459c-9276-666a03acce74"
      },
      "source": [
        "print(len(y_ts))\n",
        "y_ts"
      ],
      "execution_count": 257,
      "outputs": [
        {
          "output_type": "stream",
          "name": "stdout",
          "text": [
            "1761\n"
          ]
        },
        {
          "output_type": "execute_result",
          "data": {
            "text/plain": [
              "4347    0\n",
              "6280    0\n",
              "1374    0\n",
              "2082    0\n",
              "4573    0\n",
              "       ..\n",
              "6492    0\n",
              "5654    0\n",
              "320     1\n",
              "4644    0\n",
              "6335    0\n",
              "Name: Churn, Length: 1761, dtype: int64"
            ]
          },
          "metadata": {},
          "execution_count": 257
        }
      ]
    },
    {
      "cell_type": "code",
      "metadata": {
        "id": "j90mnTvICjTt"
      },
      "source": [
        "from sklearn.metrics import accuracy_score,confusion_matrix"
      ],
      "execution_count": 258,
      "outputs": []
    },
    {
      "cell_type": "code",
      "metadata": {
        "colab": {
          "base_uri": "https://localhost:8080/"
        },
        "id": "jjgZttHRKt8m",
        "outputId": "abbf68e6-1c65-46ad-8e40-a08884d9a495"
      },
      "source": [
        "accuracy_score(y_ts,y_pred)"
      ],
      "execution_count": 259,
      "outputs": [
        {
          "output_type": "execute_result",
          "data": {
            "text/plain": [
              "0.7779670641680864"
            ]
          },
          "metadata": {},
          "execution_count": 259
        }
      ]
    },
    {
      "cell_type": "code",
      "metadata": {
        "colab": {
          "base_uri": "https://localhost:8080/"
        },
        "id": "ZYHmuNtNK1aM",
        "outputId": "ec1ab1f3-6032-411d-c56e-e4b0833da3d4"
      },
      "source": [
        "confusion_matrix(y_ts,y_pred)"
      ],
      "execution_count": 260,
      "outputs": [
        {
          "output_type": "execute_result",
          "data": {
            "text/plain": [
              "array([[1149,  145],\n",
              "       [ 246,  221]])"
            ]
          },
          "metadata": {},
          "execution_count": 260
        }
      ]
    },
    {
      "cell_type": "code",
      "metadata": {
        "colab": {
          "base_uri": "https://localhost:8080/"
        },
        "id": "EzPT7uUsK7V-",
        "outputId": "d92635a1-5991-4db0-f6ed-43972f9f7a79"
      },
      "source": [
        " (1271/(1271+490))"
      ],
      "execution_count": 261,
      "outputs": [
        {
          "output_type": "execute_result",
          "data": {
            "text/plain": [
              "0.7217490062464509"
            ]
          },
          "metadata": {},
          "execution_count": 261
        }
      ]
    },
    {
      "cell_type": "markdown",
      "metadata": {
        "id": "e_iOLdr1SbuQ"
      },
      "source": [
        "##Apply Deep Learning"
      ]
    },
    {
      "cell_type": "code",
      "metadata": {
        "id": "QW7xZxNSSeX8"
      },
      "source": [
        "import tensorflow as tf\n",
        "from tensorflow import keras"
      ],
      "execution_count": 272,
      "outputs": []
    },
    {
      "cell_type": "code",
      "metadata": {
        "colab": {
          "base_uri": "https://localhost:8080/"
        },
        "id": "GqOpKbxvShCw",
        "outputId": "d6f730ea-24ba-48f7-cc94-c88686cc5494"
      },
      "source": [
        "model = keras.Sequential([\n",
        "    keras.layers.Dense(20,input_shape=(14,),activation='relu'),\n",
        "    keras.layers.Dense(1,activation='sigmoid'),\n",
        "\n",
        "])\n",
        "\n",
        "model.compile(optimizer='adam',loss='binary_crossentropy',metrics=['accuracy'])\n",
        "\n",
        "model.fit(x_tr,y_tr,epochs=200)"
      ],
      "execution_count": 273,
      "outputs": [
        {
          "output_type": "stream",
          "name": "stdout",
          "text": [
            "Epoch 1/200\n",
            "166/166 [==============================] - 1s 1ms/step - loss: 2.9595 - accuracy: 0.6721\n",
            "Epoch 2/200\n",
            "166/166 [==============================] - 0s 1ms/step - loss: 0.7602 - accuracy: 0.7402\n",
            "Epoch 3/200\n",
            "166/166 [==============================] - 0s 1ms/step - loss: 0.6579 - accuracy: 0.7562\n",
            "Epoch 4/200\n",
            "166/166 [==============================] - 0s 1ms/step - loss: 0.7257 - accuracy: 0.7573\n",
            "Epoch 5/200\n",
            "166/166 [==============================] - 0s 1ms/step - loss: 0.6349 - accuracy: 0.7601\n",
            "Epoch 6/200\n",
            "166/166 [==============================] - 0s 1ms/step - loss: 0.6370 - accuracy: 0.7628\n",
            "Epoch 7/200\n",
            "166/166 [==============================] - 0s 1ms/step - loss: 0.6034 - accuracy: 0.7690\n",
            "Epoch 8/200\n",
            "166/166 [==============================] - 0s 1ms/step - loss: 0.8096 - accuracy: 0.7633\n",
            "Epoch 9/200\n",
            "166/166 [==============================] - 0s 1ms/step - loss: 0.6186 - accuracy: 0.7694\n",
            "Epoch 10/200\n",
            "166/166 [==============================] - 0s 1ms/step - loss: 0.6082 - accuracy: 0.7643\n",
            "Epoch 11/200\n",
            "166/166 [==============================] - 0s 1ms/step - loss: 0.5834 - accuracy: 0.7643\n",
            "Epoch 12/200\n",
            "166/166 [==============================] - 0s 1ms/step - loss: 0.6019 - accuracy: 0.7641\n",
            "Epoch 13/200\n",
            "166/166 [==============================] - 0s 1ms/step - loss: 0.5891 - accuracy: 0.7713\n",
            "Epoch 14/200\n",
            "166/166 [==============================] - 0s 1ms/step - loss: 0.5570 - accuracy: 0.7753\n",
            "Epoch 15/200\n",
            "166/166 [==============================] - 0s 1ms/step - loss: 0.7246 - accuracy: 0.7639\n",
            "Epoch 16/200\n",
            "166/166 [==============================] - 0s 1ms/step - loss: 0.6235 - accuracy: 0.7635\n",
            "Epoch 17/200\n",
            "166/166 [==============================] - 0s 1ms/step - loss: 0.6872 - accuracy: 0.7647\n",
            "Epoch 18/200\n",
            "166/166 [==============================] - 0s 1ms/step - loss: 0.7276 - accuracy: 0.7605\n",
            "Epoch 19/200\n",
            "166/166 [==============================] - 0s 1ms/step - loss: 0.5086 - accuracy: 0.7802\n",
            "Epoch 20/200\n",
            "166/166 [==============================] - 0s 1ms/step - loss: 0.5396 - accuracy: 0.7793\n",
            "Epoch 21/200\n",
            "166/166 [==============================] - 0s 1ms/step - loss: 0.5411 - accuracy: 0.7762\n",
            "Epoch 22/200\n",
            "166/166 [==============================] - 0s 1ms/step - loss: 0.4900 - accuracy: 0.7853\n",
            "Epoch 23/200\n",
            "166/166 [==============================] - 0s 1ms/step - loss: 0.5744 - accuracy: 0.7700\n",
            "Epoch 24/200\n",
            "166/166 [==============================] - 0s 1ms/step - loss: 0.5349 - accuracy: 0.7757\n",
            "Epoch 25/200\n",
            "166/166 [==============================] - 0s 1ms/step - loss: 0.5708 - accuracy: 0.7707\n",
            "Epoch 26/200\n",
            "166/166 [==============================] - 0s 1ms/step - loss: 0.5289 - accuracy: 0.7717\n",
            "Epoch 27/200\n",
            "166/166 [==============================] - 0s 1ms/step - loss: 0.5396 - accuracy: 0.7777\n",
            "Epoch 28/200\n",
            "166/166 [==============================] - 0s 1ms/step - loss: 0.7149 - accuracy: 0.7613\n",
            "Epoch 29/200\n",
            "166/166 [==============================] - 0s 1ms/step - loss: 0.5695 - accuracy: 0.7709\n",
            "Epoch 30/200\n",
            "166/166 [==============================] - 0s 1ms/step - loss: 0.6394 - accuracy: 0.7683\n",
            "Epoch 31/200\n",
            "166/166 [==============================] - 0s 1ms/step - loss: 0.6360 - accuracy: 0.7683\n",
            "Epoch 32/200\n",
            "166/166 [==============================] - 0s 1ms/step - loss: 0.5558 - accuracy: 0.7747\n",
            "Epoch 33/200\n",
            "166/166 [==============================] - 0s 1ms/step - loss: 0.9006 - accuracy: 0.7622\n",
            "Epoch 34/200\n",
            "166/166 [==============================] - 0s 1ms/step - loss: 0.5093 - accuracy: 0.7830\n",
            "Epoch 35/200\n",
            "166/166 [==============================] - 0s 1ms/step - loss: 0.5029 - accuracy: 0.7834\n",
            "Epoch 36/200\n",
            "166/166 [==============================] - 0s 1ms/step - loss: 0.6376 - accuracy: 0.7675\n",
            "Epoch 37/200\n",
            "166/166 [==============================] - 0s 1ms/step - loss: 0.6230 - accuracy: 0.7654\n",
            "Epoch 38/200\n",
            "166/166 [==============================] - 0s 1ms/step - loss: 0.5999 - accuracy: 0.7656\n",
            "Epoch 39/200\n",
            "166/166 [==============================] - 0s 1ms/step - loss: 0.7103 - accuracy: 0.7647\n",
            "Epoch 40/200\n",
            "166/166 [==============================] - 0s 1ms/step - loss: 0.7397 - accuracy: 0.7599\n",
            "Epoch 41/200\n",
            "166/166 [==============================] - 0s 1ms/step - loss: 0.5486 - accuracy: 0.7791\n",
            "Epoch 42/200\n",
            "166/166 [==============================] - 0s 1ms/step - loss: 0.5037 - accuracy: 0.7766\n",
            "Epoch 43/200\n",
            "166/166 [==============================] - 0s 1ms/step - loss: 0.5359 - accuracy: 0.7796\n",
            "Epoch 44/200\n",
            "166/166 [==============================] - 0s 1ms/step - loss: 0.5614 - accuracy: 0.7753\n",
            "Epoch 45/200\n",
            "166/166 [==============================] - 0s 1ms/step - loss: 0.5258 - accuracy: 0.7743\n",
            "Epoch 46/200\n",
            "166/166 [==============================] - 0s 1ms/step - loss: 0.5172 - accuracy: 0.7779\n",
            "Epoch 47/200\n",
            "166/166 [==============================] - 0s 1ms/step - loss: 0.5638 - accuracy: 0.7739\n",
            "Epoch 48/200\n",
            "166/166 [==============================] - 0s 1ms/step - loss: 0.5744 - accuracy: 0.7633\n",
            "Epoch 49/200\n",
            "166/166 [==============================] - 0s 1ms/step - loss: 0.5294 - accuracy: 0.7810\n",
            "Epoch 50/200\n",
            "166/166 [==============================] - 0s 1ms/step - loss: 0.5600 - accuracy: 0.7755\n",
            "Epoch 51/200\n",
            "166/166 [==============================] - 0s 1ms/step - loss: 0.6932 - accuracy: 0.7651\n",
            "Epoch 52/200\n",
            "166/166 [==============================] - 0s 1ms/step - loss: 0.5582 - accuracy: 0.7719\n",
            "Epoch 53/200\n",
            "166/166 [==============================] - 0s 1ms/step - loss: 0.6172 - accuracy: 0.7709\n",
            "Epoch 54/200\n",
            "166/166 [==============================] - 0s 1ms/step - loss: 0.5566 - accuracy: 0.7794\n",
            "Epoch 55/200\n",
            "166/166 [==============================] - 0s 1ms/step - loss: 0.5659 - accuracy: 0.7715\n",
            "Epoch 56/200\n",
            "166/166 [==============================] - 0s 1ms/step - loss: 0.6910 - accuracy: 0.7656\n",
            "Epoch 57/200\n",
            "166/166 [==============================] - 0s 1ms/step - loss: 0.6259 - accuracy: 0.7791\n",
            "Epoch 58/200\n",
            "166/166 [==============================] - 0s 1ms/step - loss: 0.5633 - accuracy: 0.7758\n",
            "Epoch 59/200\n",
            "166/166 [==============================] - 0s 1ms/step - loss: 0.4933 - accuracy: 0.7764\n",
            "Epoch 60/200\n",
            "166/166 [==============================] - 0s 1ms/step - loss: 0.6234 - accuracy: 0.7673\n",
            "Epoch 61/200\n",
            "166/166 [==============================] - 0s 1ms/step - loss: 0.5246 - accuracy: 0.7802\n",
            "Epoch 62/200\n",
            "166/166 [==============================] - 0s 2ms/step - loss: 0.5620 - accuracy: 0.7743\n",
            "Epoch 63/200\n",
            "166/166 [==============================] - 0s 1ms/step - loss: 0.5886 - accuracy: 0.7828\n",
            "Epoch 64/200\n",
            "166/166 [==============================] - 0s 1ms/step - loss: 0.5092 - accuracy: 0.7800\n",
            "Epoch 65/200\n",
            "166/166 [==============================] - 0s 1ms/step - loss: 0.5555 - accuracy: 0.7774\n",
            "Epoch 66/200\n",
            "166/166 [==============================] - 0s 1ms/step - loss: 0.7498 - accuracy: 0.7586\n",
            "Epoch 67/200\n",
            "166/166 [==============================] - 0s 1ms/step - loss: 0.6118 - accuracy: 0.7677\n",
            "Epoch 68/200\n",
            "166/166 [==============================] - 0s 1ms/step - loss: 0.5601 - accuracy: 0.7732\n",
            "Epoch 69/200\n",
            "166/166 [==============================] - 0s 1ms/step - loss: 0.5563 - accuracy: 0.7755\n",
            "Epoch 70/200\n",
            "166/166 [==============================] - 0s 1ms/step - loss: 0.5882 - accuracy: 0.7721\n",
            "Epoch 71/200\n",
            "166/166 [==============================] - 0s 1ms/step - loss: 0.5139 - accuracy: 0.7749\n",
            "Epoch 72/200\n",
            "166/166 [==============================] - 0s 1ms/step - loss: 0.5103 - accuracy: 0.7813\n",
            "Epoch 73/200\n",
            "166/166 [==============================] - 0s 1ms/step - loss: 0.6244 - accuracy: 0.7626\n",
            "Epoch 74/200\n",
            "166/166 [==============================] - 0s 1ms/step - loss: 0.5546 - accuracy: 0.7711\n",
            "Epoch 75/200\n",
            "166/166 [==============================] - 0s 1ms/step - loss: 0.6578 - accuracy: 0.7694\n",
            "Epoch 76/200\n",
            "166/166 [==============================] - 0s 1ms/step - loss: 0.6139 - accuracy: 0.7673\n",
            "Epoch 77/200\n",
            "166/166 [==============================] - 0s 2ms/step - loss: 0.5252 - accuracy: 0.7787\n",
            "Epoch 78/200\n",
            "166/166 [==============================] - 0s 2ms/step - loss: 0.6336 - accuracy: 0.7611\n",
            "Epoch 79/200\n",
            "166/166 [==============================] - 0s 1ms/step - loss: 0.6784 - accuracy: 0.7669\n",
            "Epoch 80/200\n",
            "166/166 [==============================] - 0s 1ms/step - loss: 0.5486 - accuracy: 0.7705\n",
            "Epoch 81/200\n",
            "166/166 [==============================] - 0s 1ms/step - loss: 0.7160 - accuracy: 0.7632\n",
            "Epoch 82/200\n",
            "166/166 [==============================] - 0s 1ms/step - loss: 0.5227 - accuracy: 0.7747\n",
            "Epoch 83/200\n",
            "166/166 [==============================] - 0s 1ms/step - loss: 0.6455 - accuracy: 0.7662\n",
            "Epoch 84/200\n",
            "166/166 [==============================] - 0s 3ms/step - loss: 0.6045 - accuracy: 0.7726\n",
            "Epoch 85/200\n",
            "166/166 [==============================] - 0s 2ms/step - loss: 0.6346 - accuracy: 0.7702\n",
            "Epoch 86/200\n",
            "166/166 [==============================] - 0s 2ms/step - loss: 0.5088 - accuracy: 0.7827\n",
            "Epoch 87/200\n",
            "166/166 [==============================] - 0s 1ms/step - loss: 0.6188 - accuracy: 0.7700\n",
            "Epoch 88/200\n",
            "166/166 [==============================] - 0s 1ms/step - loss: 0.5502 - accuracy: 0.7823\n",
            "Epoch 89/200\n",
            "166/166 [==============================] - 0s 1ms/step - loss: 0.5602 - accuracy: 0.7741\n",
            "Epoch 90/200\n",
            "166/166 [==============================] - 0s 1ms/step - loss: 0.4975 - accuracy: 0.7804\n",
            "Epoch 91/200\n",
            "166/166 [==============================] - 0s 1ms/step - loss: 0.6197 - accuracy: 0.7683\n",
            "Epoch 92/200\n",
            "166/166 [==============================] - 0s 2ms/step - loss: 0.5393 - accuracy: 0.7719\n",
            "Epoch 93/200\n",
            "166/166 [==============================] - 0s 2ms/step - loss: 0.4769 - accuracy: 0.7774\n",
            "Epoch 94/200\n",
            "166/166 [==============================] - 0s 1ms/step - loss: 0.5439 - accuracy: 0.7692\n",
            "Epoch 95/200\n",
            "166/166 [==============================] - 0s 2ms/step - loss: 0.5753 - accuracy: 0.7702\n",
            "Epoch 96/200\n",
            "166/166 [==============================] - 0s 2ms/step - loss: 0.5691 - accuracy: 0.7688\n",
            "Epoch 97/200\n",
            "166/166 [==============================] - 0s 2ms/step - loss: 0.6206 - accuracy: 0.7741\n",
            "Epoch 98/200\n",
            "166/166 [==============================] - 0s 2ms/step - loss: 0.7140 - accuracy: 0.7662\n",
            "Epoch 99/200\n",
            "166/166 [==============================] - 0s 2ms/step - loss: 0.5723 - accuracy: 0.7789\n",
            "Epoch 100/200\n",
            "166/166 [==============================] - 0s 2ms/step - loss: 0.5471 - accuracy: 0.7730\n",
            "Epoch 101/200\n",
            "166/166 [==============================] - 0s 2ms/step - loss: 0.5439 - accuracy: 0.7757\n",
            "Epoch 102/200\n",
            "166/166 [==============================] - 0s 1ms/step - loss: 0.5498 - accuracy: 0.7738\n",
            "Epoch 103/200\n",
            "166/166 [==============================] - 0s 1ms/step - loss: 0.6001 - accuracy: 0.7698\n",
            "Epoch 104/200\n",
            "166/166 [==============================] - 0s 1ms/step - loss: 0.5526 - accuracy: 0.7736\n",
            "Epoch 105/200\n",
            "166/166 [==============================] - 0s 1ms/step - loss: 0.5076 - accuracy: 0.7885\n",
            "Epoch 106/200\n",
            "166/166 [==============================] - 0s 1ms/step - loss: 0.6689 - accuracy: 0.7745\n",
            "Epoch 107/200\n",
            "166/166 [==============================] - 0s 1ms/step - loss: 0.4847 - accuracy: 0.7904\n",
            "Epoch 108/200\n",
            "166/166 [==============================] - 0s 1ms/step - loss: 0.5748 - accuracy: 0.7730\n",
            "Epoch 109/200\n",
            "166/166 [==============================] - 0s 1ms/step - loss: 0.5810 - accuracy: 0.7745\n",
            "Epoch 110/200\n",
            "166/166 [==============================] - 0s 1ms/step - loss: 0.4891 - accuracy: 0.7815\n",
            "Epoch 111/200\n",
            "166/166 [==============================] - 0s 1ms/step - loss: 0.5556 - accuracy: 0.7688\n",
            "Epoch 112/200\n",
            "166/166 [==============================] - 0s 1ms/step - loss: 0.6217 - accuracy: 0.7709\n",
            "Epoch 113/200\n",
            "166/166 [==============================] - 0s 1ms/step - loss: 0.6740 - accuracy: 0.7662\n",
            "Epoch 114/200\n",
            "166/166 [==============================] - 0s 1ms/step - loss: 0.5142 - accuracy: 0.7800\n",
            "Epoch 115/200\n",
            "166/166 [==============================] - 0s 1ms/step - loss: 0.5078 - accuracy: 0.7747\n",
            "Epoch 116/200\n",
            "166/166 [==============================] - 0s 1ms/step - loss: 0.5390 - accuracy: 0.7709\n",
            "Epoch 117/200\n",
            "166/166 [==============================] - 0s 1ms/step - loss: 0.5490 - accuracy: 0.7779\n",
            "Epoch 118/200\n",
            "166/166 [==============================] - 0s 1ms/step - loss: 0.5988 - accuracy: 0.7692\n",
            "Epoch 119/200\n",
            "166/166 [==============================] - 0s 1ms/step - loss: 0.5444 - accuracy: 0.7762\n",
            "Epoch 120/200\n",
            "166/166 [==============================] - 0s 1ms/step - loss: 0.6911 - accuracy: 0.7700\n",
            "Epoch 121/200\n",
            "166/166 [==============================] - 0s 1ms/step - loss: 0.5965 - accuracy: 0.7719\n",
            "Epoch 122/200\n",
            "166/166 [==============================] - 0s 1ms/step - loss: 0.5676 - accuracy: 0.7741\n",
            "Epoch 123/200\n",
            "166/166 [==============================] - 0s 1ms/step - loss: 0.6105 - accuracy: 0.7772\n",
            "Epoch 124/200\n",
            "166/166 [==============================] - 0s 1ms/step - loss: 0.5479 - accuracy: 0.7711\n",
            "Epoch 125/200\n",
            "166/166 [==============================] - 0s 1ms/step - loss: 0.6002 - accuracy: 0.7734\n",
            "Epoch 126/200\n",
            "166/166 [==============================] - 0s 1ms/step - loss: 0.5002 - accuracy: 0.7757\n",
            "Epoch 127/200\n",
            "166/166 [==============================] - 0s 1ms/step - loss: 0.6119 - accuracy: 0.7726\n",
            "Epoch 128/200\n",
            "166/166 [==============================] - 0s 1ms/step - loss: 0.6225 - accuracy: 0.7772\n",
            "Epoch 129/200\n",
            "166/166 [==============================] - 0s 1ms/step - loss: 0.5358 - accuracy: 0.7785\n",
            "Epoch 130/200\n",
            "166/166 [==============================] - 0s 1ms/step - loss: 0.4982 - accuracy: 0.7794\n",
            "Epoch 131/200\n",
            "166/166 [==============================] - 0s 1ms/step - loss: 0.5012 - accuracy: 0.7802\n",
            "Epoch 132/200\n",
            "166/166 [==============================] - 0s 1ms/step - loss: 0.5408 - accuracy: 0.7770\n",
            "Epoch 133/200\n",
            "166/166 [==============================] - 0s 1ms/step - loss: 0.6589 - accuracy: 0.7686\n",
            "Epoch 134/200\n",
            "166/166 [==============================] - 0s 1ms/step - loss: 0.5160 - accuracy: 0.7787\n",
            "Epoch 135/200\n",
            "166/166 [==============================] - 0s 1ms/step - loss: 0.6686 - accuracy: 0.7722\n",
            "Epoch 136/200\n",
            "166/166 [==============================] - 0s 1ms/step - loss: 0.5855 - accuracy: 0.7738\n",
            "Epoch 137/200\n",
            "166/166 [==============================] - 0s 1ms/step - loss: 0.6885 - accuracy: 0.7707\n",
            "Epoch 138/200\n",
            "166/166 [==============================] - 0s 1ms/step - loss: 0.5434 - accuracy: 0.7738\n",
            "Epoch 139/200\n",
            "166/166 [==============================] - 0s 1ms/step - loss: 0.5562 - accuracy: 0.7711\n",
            "Epoch 140/200\n",
            "166/166 [==============================] - 0s 1ms/step - loss: 0.5146 - accuracy: 0.7753\n",
            "Epoch 141/200\n",
            "166/166 [==============================] - 0s 1ms/step - loss: 0.5708 - accuracy: 0.7749\n",
            "Epoch 142/200\n",
            "166/166 [==============================] - 0s 1ms/step - loss: 0.5988 - accuracy: 0.7724\n",
            "Epoch 143/200\n",
            "166/166 [==============================] - 0s 1ms/step - loss: 0.5667 - accuracy: 0.7757\n",
            "Epoch 144/200\n",
            "166/166 [==============================] - 0s 1ms/step - loss: 0.5283 - accuracy: 0.7738\n",
            "Epoch 145/200\n",
            "166/166 [==============================] - 0s 1ms/step - loss: 0.5349 - accuracy: 0.7766\n",
            "Epoch 146/200\n",
            "166/166 [==============================] - 0s 1ms/step - loss: 0.6812 - accuracy: 0.7686\n",
            "Epoch 147/200\n",
            "166/166 [==============================] - 0s 1ms/step - loss: 0.5571 - accuracy: 0.7791\n",
            "Epoch 148/200\n",
            "166/166 [==============================] - 0s 1ms/step - loss: 0.6118 - accuracy: 0.7694\n",
            "Epoch 149/200\n",
            "166/166 [==============================] - 0s 1ms/step - loss: 0.5443 - accuracy: 0.7702\n",
            "Epoch 150/200\n",
            "166/166 [==============================] - 0s 1ms/step - loss: 0.6104 - accuracy: 0.7719\n",
            "Epoch 151/200\n",
            "166/166 [==============================] - 0s 1ms/step - loss: 0.4921 - accuracy: 0.7798\n",
            "Epoch 152/200\n",
            "166/166 [==============================] - 0s 1ms/step - loss: 0.5364 - accuracy: 0.7808\n",
            "Epoch 153/200\n",
            "166/166 [==============================] - 0s 1ms/step - loss: 0.5219 - accuracy: 0.7772\n",
            "Epoch 154/200\n",
            "166/166 [==============================] - 0s 1ms/step - loss: 0.5021 - accuracy: 0.7811\n",
            "Epoch 155/200\n",
            "166/166 [==============================] - 0s 1ms/step - loss: 0.5377 - accuracy: 0.7683\n",
            "Epoch 156/200\n",
            "166/166 [==============================] - 0s 1ms/step - loss: 0.5696 - accuracy: 0.7688\n",
            "Epoch 157/200\n",
            "166/166 [==============================] - 0s 1ms/step - loss: 0.5908 - accuracy: 0.7679\n",
            "Epoch 158/200\n",
            "166/166 [==============================] - 0s 1ms/step - loss: 0.4779 - accuracy: 0.7880\n",
            "Epoch 159/200\n",
            "166/166 [==============================] - 0s 1ms/step - loss: 0.5470 - accuracy: 0.7768\n",
            "Epoch 160/200\n",
            "166/166 [==============================] - 0s 1ms/step - loss: 0.5325 - accuracy: 0.7749\n",
            "Epoch 161/200\n",
            "166/166 [==============================] - 0s 1ms/step - loss: 0.5212 - accuracy: 0.7760\n",
            "Epoch 162/200\n",
            "166/166 [==============================] - 0s 1ms/step - loss: 0.5438 - accuracy: 0.7755\n",
            "Epoch 163/200\n",
            "166/166 [==============================] - 0s 1ms/step - loss: 0.4784 - accuracy: 0.7853\n",
            "Epoch 164/200\n",
            "166/166 [==============================] - 0s 1ms/step - loss: 0.5570 - accuracy: 0.7800\n",
            "Epoch 165/200\n",
            "166/166 [==============================] - 0s 1ms/step - loss: 0.4926 - accuracy: 0.7804\n",
            "Epoch 166/200\n",
            "166/166 [==============================] - 0s 1ms/step - loss: 0.6677 - accuracy: 0.7685\n",
            "Epoch 167/200\n",
            "166/166 [==============================] - 0s 1ms/step - loss: 0.5390 - accuracy: 0.7775\n",
            "Epoch 168/200\n",
            "166/166 [==============================] - 0s 1ms/step - loss: 0.5840 - accuracy: 0.7747\n",
            "Epoch 169/200\n",
            "166/166 [==============================] - 0s 1ms/step - loss: 0.5967 - accuracy: 0.7677\n",
            "Epoch 170/200\n",
            "166/166 [==============================] - 0s 1ms/step - loss: 0.5462 - accuracy: 0.7785\n",
            "Epoch 171/200\n",
            "166/166 [==============================] - 0s 1ms/step - loss: 0.5607 - accuracy: 0.7736\n",
            "Epoch 172/200\n",
            "166/166 [==============================] - 0s 1ms/step - loss: 0.4829 - accuracy: 0.7808\n",
            "Epoch 173/200\n",
            "166/166 [==============================] - 0s 1ms/step - loss: 0.5303 - accuracy: 0.7775\n",
            "Epoch 174/200\n",
            "166/166 [==============================] - 0s 1ms/step - loss: 0.5114 - accuracy: 0.7813\n",
            "Epoch 175/200\n",
            "166/166 [==============================] - 0s 1ms/step - loss: 0.5448 - accuracy: 0.7777\n",
            "Epoch 176/200\n",
            "166/166 [==============================] - 0s 1ms/step - loss: 0.5011 - accuracy: 0.7785\n",
            "Epoch 177/200\n",
            "166/166 [==============================] - 0s 1ms/step - loss: 0.5072 - accuracy: 0.7755\n",
            "Epoch 178/200\n",
            "166/166 [==============================] - 0s 1ms/step - loss: 0.4774 - accuracy: 0.7793\n",
            "Epoch 179/200\n",
            "166/166 [==============================] - 0s 1ms/step - loss: 0.5085 - accuracy: 0.7762\n",
            "Epoch 180/200\n",
            "166/166 [==============================] - 0s 1ms/step - loss: 0.5173 - accuracy: 0.7732\n",
            "Epoch 181/200\n",
            "166/166 [==============================] - 0s 1ms/step - loss: 0.5839 - accuracy: 0.7685\n",
            "Epoch 182/200\n",
            "166/166 [==============================] - 0s 1ms/step - loss: 0.6241 - accuracy: 0.7764\n",
            "Epoch 183/200\n",
            "166/166 [==============================] - 0s 1ms/step - loss: 0.4998 - accuracy: 0.7791\n",
            "Epoch 184/200\n",
            "166/166 [==============================] - 0s 1ms/step - loss: 0.4834 - accuracy: 0.7846\n",
            "Epoch 185/200\n",
            "166/166 [==============================] - 0s 1ms/step - loss: 0.6650 - accuracy: 0.7622\n",
            "Epoch 186/200\n",
            "166/166 [==============================] - 0s 1ms/step - loss: 0.4948 - accuracy: 0.7838\n",
            "Epoch 187/200\n",
            "166/166 [==============================] - 0s 1ms/step - loss: 0.5154 - accuracy: 0.7817\n",
            "Epoch 188/200\n",
            "166/166 [==============================] - 0s 1ms/step - loss: 0.5057 - accuracy: 0.7806\n",
            "Epoch 189/200\n",
            "166/166 [==============================] - 0s 1ms/step - loss: 0.5341 - accuracy: 0.7832\n",
            "Epoch 190/200\n",
            "166/166 [==============================] - 0s 1ms/step - loss: 0.4820 - accuracy: 0.7836\n",
            "Epoch 191/200\n",
            "166/166 [==============================] - 0s 1ms/step - loss: 0.4837 - accuracy: 0.7817\n",
            "Epoch 192/200\n",
            "166/166 [==============================] - 0s 1ms/step - loss: 0.5280 - accuracy: 0.7800\n",
            "Epoch 193/200\n",
            "166/166 [==============================] - 0s 1ms/step - loss: 0.8285 - accuracy: 0.7558\n",
            "Epoch 194/200\n",
            "166/166 [==============================] - 0s 1ms/step - loss: 0.5050 - accuracy: 0.7758\n",
            "Epoch 195/200\n",
            "166/166 [==============================] - 0s 1ms/step - loss: 0.6162 - accuracy: 0.7677\n",
            "Epoch 196/200\n",
            "166/166 [==============================] - 0s 1ms/step - loss: 0.5213 - accuracy: 0.7804\n",
            "Epoch 197/200\n",
            "166/166 [==============================] - 0s 1ms/step - loss: 0.4955 - accuracy: 0.7857\n",
            "Epoch 198/200\n",
            "166/166 [==============================] - 0s 1ms/step - loss: 0.5612 - accuracy: 0.7796\n",
            "Epoch 199/200\n",
            "166/166 [==============================] - 0s 1ms/step - loss: 0.5558 - accuracy: 0.7730\n",
            "Epoch 200/200\n",
            "166/166 [==============================] - 0s 1ms/step - loss: 0.6391 - accuracy: 0.7745\n"
          ]
        },
        {
          "output_type": "execute_result",
          "data": {
            "text/plain": [
              "<keras.callbacks.History at 0x7ff989f8ddd0>"
            ]
          },
          "metadata": {},
          "execution_count": 273
        }
      ]
    },
    {
      "cell_type": "code",
      "metadata": {
        "id": "PRfjMKk1S7wT"
      },
      "source": [
        "#Use Early stopping "
      ],
      "execution_count": null,
      "outputs": []
    },
    {
      "cell_type": "code",
      "metadata": {
        "id": "5P-BnZ1RNOBC",
        "colab": {
          "base_uri": "https://localhost:8080/"
        },
        "outputId": "86f96941-4cd6-4f26-a6a3-0d534c009981"
      },
      "source": [
        "model.evaluate(x_ts,y_ts)"
      ],
      "execution_count": 274,
      "outputs": [
        {
          "output_type": "stream",
          "name": "stdout",
          "text": [
            "56/56 [==============================] - 0s 1ms/step - loss: 0.4695 - accuracy: 0.7791\n"
          ]
        },
        {
          "output_type": "execute_result",
          "data": {
            "text/plain": [
              "[0.4695098102092743, 0.7791028022766113]"
            ]
          },
          "metadata": {},
          "execution_count": 274
        }
      ]
    },
    {
      "cell_type": "code",
      "metadata": {
        "id": "89-kBre5NOBD"
      },
      "source": [
        "yp = model.predict(x_ts)"
      ],
      "execution_count": 275,
      "outputs": []
    },
    {
      "cell_type": "code",
      "metadata": {
        "id": "mM9lNKrGNOBE",
        "colab": {
          "base_uri": "https://localhost:8080/"
        },
        "outputId": "e93afeab-602d-41c0-e2e1-ff3365114660"
      },
      "source": [
        "y_ts[:10]"
      ],
      "execution_count": 276,
      "outputs": [
        {
          "output_type": "execute_result",
          "data": {
            "text/plain": [
              "4347    0\n",
              "6280    0\n",
              "1374    0\n",
              "2082    0\n",
              "4573    0\n",
              "6635    0\n",
              "5801    0\n",
              "3247    0\n",
              "5543    0\n",
              "932     0\n",
              "Name: Churn, dtype: int64"
            ]
          },
          "metadata": {},
          "execution_count": 276
        }
      ]
    },
    {
      "cell_type": "code",
      "metadata": {
        "id": "3v6r7MgnNOBE"
      },
      "source": [
        "y_pred = []\n",
        "for e in yp:\n",
        "    if e>0.5:\n",
        "        y_pred.append(1)\n",
        "    else:\n",
        "        y_pred.append(0)"
      ],
      "execution_count": 277,
      "outputs": []
    },
    {
      "cell_type": "code",
      "metadata": {
        "id": "XclGQJgKNOBG",
        "colab": {
          "base_uri": "https://localhost:8080/"
        },
        "outputId": "56d4cb41-8d90-451f-babe-783b7296b01c"
      },
      "source": [
        "y_pred[:10]"
      ],
      "execution_count": 278,
      "outputs": [
        {
          "output_type": "execute_result",
          "data": {
            "text/plain": [
              "[0, 0, 0, 0, 0, 0, 1, 0, 1, 0]"
            ]
          },
          "metadata": {},
          "execution_count": 278
        }
      ]
    },
    {
      "cell_type": "code",
      "metadata": {
        "id": "gT1JasQxNOBH",
        "colab": {
          "base_uri": "https://localhost:8080/"
        },
        "outputId": "a987dfd6-05fe-47b3-969f-cb7ce3ab9eb3"
      },
      "source": [
        "from sklearn.metrics import confusion_matrix,classification_report\n",
        "print(classification_report(y_ts,y_pred))"
      ],
      "execution_count": 279,
      "outputs": [
        {
          "output_type": "stream",
          "name": "stdout",
          "text": [
            "              precision    recall  f1-score   support\n",
            "\n",
            "           0       0.88      0.81      0.84      1294\n",
            "           1       0.57      0.70      0.63       467\n",
            "\n",
            "    accuracy                           0.78      1761\n",
            "   macro avg       0.72      0.75      0.73      1761\n",
            "weighted avg       0.80      0.78      0.79      1761\n",
            "\n"
          ]
        }
      ]
    }
  ]
}